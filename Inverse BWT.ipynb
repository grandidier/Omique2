{
 "cells": [
  {
   "cell_type": "code",
   "execution_count": null,
   "id": "9df936e1",
   "metadata": {},
   "outputs": [],
   "source": [
    "def get_K(S):\n",
    "    K=[]\n",
    "    my_dict = {}\n",
    "    for char in S:\n",
    "        if char not in my_dict:\n",
    "            my_dict[char]=1\n",
    "            K.append(1)\n",
    "        else:\n",
    "            my_dict[char]+=1\n",
    "            K.append(my_dict[char])\n",
    "    return K\n",
    "\n",
    "def get_j(CSM,k,S,X):\n",
    "    j = k\n",
    "    for char in S:\n",
    "        if char < X:\n",
    "            j+=1\n",
    "    return j\n",
    "    \n",
    "def inverse_BWT(S):\n",
    "    K = get_K(S)\n",
    "    X = S[0]\n",
    "    k = K[0]\n",
    "    res = \"$\"\n",
    "    CSM = ''.join(sorted(S))\n",
    "    while X != \"$\":\n",
    "        j = get_j(CSM,k,S,X)\n",
    "        res = X+res\n",
    "        X = S[j-1]\n",
    "        k = K[j-1]\n",
    "    return res"
   ]
  },
  {
   "cell_type": "code",
   "execution_count": null,
   "id": "f435ad6f",
   "metadata": {},
   "outputs": [],
   "source": [
    "inverse_BWT(\"GT$CCGAATAAA\")"
   ]
  }
 ],
 "metadata": {
  "kernelspec": {
   "display_name": "Python 3 (ipykernel)",
   "language": "python",
   "name": "python3"
  },
  "language_info": {
   "codemirror_mode": {
    "name": "ipython",
    "version": 3
   },
   "file_extension": ".py",
   "mimetype": "text/x-python",
   "name": "python",
   "nbconvert_exporter": "python",
   "pygments_lexer": "ipython3",
   "version": "3.9.12"
  }
 },
 "nbformat": 4,
 "nbformat_minor": 5
}
