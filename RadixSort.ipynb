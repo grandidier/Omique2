{
 "cells": [
  {
   "cell_type": "code",
   "execution_count": 154,
   "id": "be25730f",
   "metadata": {},
   "outputs": [],
   "source": [
    "import time"
   ]
  },
  {
   "cell_type": "code",
   "execution_count": 150,
   "id": "65aa5212",
   "metadata": {},
   "outputs": [],
   "source": [
    "def counting_sort(array,ind):\n",
    "    list_index = [0]*len(array)\n",
    "    for i in range(len(array)):\n",
    "        list_index[i]=array[i][ind]\n",
    "        \n",
    "    x = max(list_index)\n",
    "    count_arr= [0]*(x+1)\n",
    "    sorted_arr=[0]*len(array)\n",
    "    j=0\n",
    "    \n",
    "    for i in range(0, len(array)):\n",
    "        index = array[i][ind]\n",
    "        count_arr[index] += 1\n",
    "        \n",
    "    for i in range(1, len(count_arr)):\n",
    "        count_arr[i] += count_arr[i - 1]\n",
    "       \n",
    "    i = len(array) - 1\n",
    "    \n",
    "    while i >= 0:\n",
    "        index = array[i][ind]\n",
    "        sorted_arr[count_arr[index] - 1] = array[i]\n",
    "        count_arr[index] -= 1\n",
    "        i -= 1\n",
    "        #print(\"sort\", sorted_arr)\n",
    "        \n",
    "    array = sorted_arr\n",
    "    return array\n",
    "    "
   ]
  },
  {
   "cell_type": "code",
   "execution_count": 151,
   "id": "2070cb4f",
   "metadata": {},
   "outputs": [],
   "source": [
    "def RadixSort(array):\n",
    "    x = len(array[0])\n",
    "    ind=x-1\n",
    "    sort=array\n",
    "    while ind>=0 :\n",
    "        sort=counting_sort(sort,ind)\n",
    "        ind -=1\n",
    "    return sort"
   ]
  },
  {
   "cell_type": "code",
   "execution_count": 155,
   "id": "0d9fb676",
   "metadata": {},
   "outputs": [
    {
     "name": "stdout",
     "output_type": "stream",
     "text": [
      "[[57, 76, 35], [57, 76, 42], [68, 77, 99], [98, 95, 72]]\n",
      "0.0001709461212158203\n"
     ]
    }
   ],
   "source": [
    "st = time.time()\n",
    "list_arr = [[98,95,72],[57,76,35],[57,76,42],[68,77,99]]\n",
    "print(RadixSort(list_arr))\n",
    "ed = time.time()\n",
    "\n",
    "print(ed-st)"
   ]
  },
  {
   "cell_type": "code",
   "execution_count": null,
   "id": "f9de2b78",
   "metadata": {},
   "outputs": [],
   "source": []
  }
 ],
 "metadata": {
  "kernelspec": {
   "display_name": "Python 3 (ipykernel)",
   "language": "python",
   "name": "python3"
  },
  "language_info": {
   "codemirror_mode": {
    "name": "ipython",
    "version": 3
   },
   "file_extension": ".py",
   "mimetype": "text/x-python",
   "name": "python",
   "nbconvert_exporter": "python",
   "pygments_lexer": "ipython3",
   "version": "3.9.12"
  }
 },
 "nbformat": 4,
 "nbformat_minor": 5
}
